{
 "cells": [
  {
   "cell_type": "markdown",
   "metadata": {},
   "source": [
    "## git 만듬\n",
    "\n",
    "- 저장소 : https://github.com/sunjung/basic_python.git\n",
    "\n",
    "### 리모트 저장소 : 네트워크 어딘가에 있는 저장소.\n",
    "- 리모트 저장소 가져오는 명령어 : 새로운 리모트 git remote add [단축이름] [url]\n",
    "\n",
    "### 리모트 저장소를 pull하거나 fetch하기\n",
    "- 앞서 설명했듯이 리모트 저장소에서 데이터를 가져오려면 간단히 아래와 같이 실행한다.\n",
    "- 명령어 : git fetch [remote-name]\n",
    "\n",
    "### 리모드 저장소에 push 하기\n",
    "\n",
    "- git push [리모드 저장소 이름] [브랜치 이름] \n"
   ]
  },
  {
   "cell_type": "code",
   "execution_count": null,
   "metadata": {},
   "outputs": [],
   "source": []
  }
 ],
 "metadata": {
  "kernelspec": {
   "display_name": "Python 3",
   "language": "python",
   "name": "python3"
  },
  "language_info": {
   "codemirror_mode": {
    "name": "ipython",
    "version": 3
   },
   "file_extension": ".py",
   "mimetype": "text/x-python",
   "name": "python",
   "nbconvert_exporter": "python",
   "pygments_lexer": "ipython3",
   "version": "3.6.5"
  }
 },
 "nbformat": 4,
 "nbformat_minor": 2
}
