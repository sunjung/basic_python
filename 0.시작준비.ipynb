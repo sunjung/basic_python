{
 "cells": [
  {
   "cell_type": "markdown",
   "metadata": {},
   "source": [
    "## git 만듬\n",
    "\n",
    "- 저장소 : https://github.com/sunjung/basic_python.git\n",
    "\n",
    "### 리모트 저장소 : 네트워크 어딘가에 있는 저장소.\n",
    "- 리모트 저장소 가져오는 명령어 : 새로운 리모트 git remote add [단축이름] [url]\n",
    "\n",
    "### 리모트 저장소를 pull하거나 fetch하기\n",
    "- 앞서 설명했듯이 리모트 저장소에서 데이터를 가져오려면 간단히 아래와 같이 실행한다.\n",
    "- 명령어 : git fetch [remote-name]\n",
    "\n",
    "### 리모드 저장소에 push 하기\n",
    "\n",
    "- git push [리모드 저장소 이름] [브랜치 이름] \n"
   ]
  },
  {
   "cell_type": "markdown",
   "metadata": {},
   "source": [
    "## 목차\n",
    "### 파이썬특징\n",
    "1. 자료형과 제어문\n",
    "2. 입출력\n",
    "3. 파이썬 날개달기\n",
    "4. 어디서부터 시작할 것인가?\n",
    "5. 테스트 주도 개발\n",
    "6. 인터넷 프로그래밍\n",
    "7. 파이썬 팁\n",
    "8. 파이썬 퀴즈"
   ]
  },
  {
   "cell_type": "markdown",
   "metadata": {},
   "source": [
    "## 마크다운 팁\n",
    "***\n",
    "```\n",
    "this is code block.\n",
    "```\n",
    ">1\n",
    ">>2\n",
    ">>>3"
   ]
  }
 ],
 "metadata": {
  "kernelspec": {
   "display_name": "Python 3",
   "language": "python",
   "name": "python3"
  },
  "language_info": {
   "codemirror_mode": {
    "name": "ipython",
    "version": 3
   },
   "file_extension": ".py",
   "mimetype": "text/x-python",
   "name": "python",
   "nbconvert_exporter": "python",
   "pygments_lexer": "ipython3",
   "version": "3.6.5"
  }
 },
 "nbformat": 4,
 "nbformat_minor": 2
}
